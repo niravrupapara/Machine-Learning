{
 "cells": [
  {
   "cell_type": "markdown",
   "id": "3ab7df2d",
   "metadata": {},
   "source": [
    "# class for simple linear regression\n",
    "\n",
    " formula for linear regression\n",
    " Y=mx+b"
   ]
  },
  {
   "cell_type": "code",
   "execution_count": 96,
   "id": "b4ef239e",
   "metadata": {},
   "outputs": [],
   "source": [
    "class My_LR:\n",
    "    def __init__(self):\n",
    "        self.m=None\n",
    "        self.b=None\n",
    "    \n",
    "    def fit(self,X_train,y_train):\n",
    "        \n",
    "        #formula for m :\n",
    "        \n",
    "        numerator=0\n",
    "        denominator=0\n",
    "\n",
    "        for i in range(X_train.shape[0]):\n",
    "            numerator=numerator+((y_train[i]-y_train.mean())*(X_train[i]-X_train.mean()))\n",
    "            denominator=denominator+((X_train[i]-X_train.mean())**2)\n",
    "\n",
    "        self.m=numerator/denominator\n",
    "        self.b=y_train.mean() - (self.m*X_train.mean())\n",
    "\n",
    "        print(\"model trained Successfully\")\n",
    "    \n",
    "    def predict(self,X_test):\n",
    "\n",
    "        ans=(self.m*X_test)+self.b\n",
    "        return ans\n"
   ]
  },
  {
   "cell_type": "code",
   "execution_count": 97,
   "id": "94153395",
   "metadata": {},
   "outputs": [],
   "source": [
    "import pandas as pd\n",
    "from sklearn.model_selection import train_test_split"
   ]
  },
  {
   "cell_type": "code",
   "execution_count": 98,
   "id": "1e3b7dcc",
   "metadata": {},
   "outputs": [],
   "source": [
    "df=pd.read_csv('placement.csv')\n"
   ]
  },
  {
   "cell_type": "code",
   "execution_count": 99,
   "id": "fd3b5d09",
   "metadata": {},
   "outputs": [],
   "source": [
    "x=df.iloc[:,0].values\n",
    "y=df.iloc[:,-1].values"
   ]
  },
  {
   "cell_type": "code",
   "execution_count": 100,
   "id": "79a9e4e0",
   "metadata": {},
   "outputs": [],
   "source": [
    "X_train , X_test , y_train , y_test = train_test_split(x,y,random_state=2,test_size=0.2)"
   ]
  },
  {
   "cell_type": "code",
   "execution_count": 101,
   "id": "8465da91",
   "metadata": {},
   "outputs": [],
   "source": [
    "X_train=X_train.reshape(-1,1)\n",
    "X_test=X_test.reshape(-1,1)"
   ]
  },
  {
   "cell_type": "code",
   "execution_count": 102,
   "id": "ae149045",
   "metadata": {},
   "outputs": [
    {
     "name": "stdout",
     "output_type": "stream",
     "text": [
      "model trained Successfully\n"
     ]
    }
   ],
   "source": [
    "my_model=My_LR()\n",
    "my_model.fit(X_train,y_train)"
   ]
  },
  {
   "cell_type": "code",
   "execution_count": 103,
   "id": "9933a846",
   "metadata": {},
   "outputs": [
    {
     "name": "stdout",
     "output_type": "stream",
     "text": [
      "[0.59049036]\n"
     ]
    }
   ],
   "source": [
    "print(my_model.predict(X_test[0]))"
   ]
  },
  {
   "cell_type": "code",
   "execution_count": 104,
   "id": "f29c1a99",
   "metadata": {},
   "outputs": [],
   "source": [
    "from sklearn.linear_model import LinearRegression"
   ]
  },
  {
   "cell_type": "code",
   "execution_count": 105,
   "id": "03a18488",
   "metadata": {},
   "outputs": [
    {
     "data": {
      "text/plain": [
       "array([0.59049036, 0.41341042, 0.50027983, 0.39336364, 0.36663459,\n",
       "       0.39002251, 0.31985876, 0.40338703, 0.40672816, 0.3566112 ,\n",
       "       0.64394845, 0.62056053, 0.56710244, 0.35995233, 0.3131765 ,\n",
       "       0.38334025, 0.32319989, 0.41006929, 0.51698548, 0.57712583])"
      ]
     },
     "execution_count": 105,
     "metadata": {},
     "output_type": "execute_result"
    }
   ],
   "source": [
    "inbuilt_lr=LinearRegression()\n",
    "inbuilt_lr.fit(X_train,y_train)\n",
    "inbuilt_lr.predict(X_test)"
   ]
  },
  {
   "cell_type": "markdown",
   "id": "23dc79db",
   "metadata": {},
   "source": [
    "## Comparision between in built class vs our class"
   ]
  },
  {
   "cell_type": "code",
   "execution_count": 106,
   "id": "7a8a4b7f",
   "metadata": {},
   "outputs": [
    {
     "name": "stdout",
     "output_type": "stream",
     "text": [
      "inbult model ans=  0.5904903570718488\n",
      "our  model ans=  [0.59049036]\n"
     ]
    }
   ],
   "source": [
    "print(\"inbult model ans= \" ,inbuilt_lr.predict(X_test)[0])\n",
    "print(\"our  model ans= \" ,my_model.predict(X_test[0]))"
   ]
  }
 ],
 "metadata": {
  "kernelspec": {
   "display_name": "base",
   "language": "python",
   "name": "python3"
  },
  "language_info": {
   "codemirror_mode": {
    "name": "ipython",
    "version": 3
   },
   "file_extension": ".py",
   "mimetype": "text/x-python",
   "name": "python",
   "nbconvert_exporter": "python",
   "pygments_lexer": "ipython3",
   "version": "3.12.7"
  }
 },
 "nbformat": 4,
 "nbformat_minor": 5
}
